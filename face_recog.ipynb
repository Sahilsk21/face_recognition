{
 "cells": [
  {
   "cell_type": "markdown",
   "id": "4a913846",
   "metadata": {},
   "source": [
    "# Face Recognition"
   ]
  },
  {
   "cell_type": "markdown",
   "id": "ef5f864c",
   "metadata": {},
   "source": [
    "# Face recognition problems commonly fall into one of two categories:"
   ]
  },
  {
   "cell_type": "markdown",
   "id": "39ba7d9b",
   "metadata": {},
   "source": [
    "1.Face Verification \"Is this the claimed person?\" For example, at some airports, you can pass through customs by letting a system scan your passport and then verifying that you (the person carrying the passport) are the correct person. A mobile phone that unlocks using your face is also using face verification. This is a 1:1 matching problem.\n",
    "\n",
    "2.Face Recognition \"Who is this person?\" For example, the video lecture showed a face recognition video of Baidu employees entering the office without needing to otherwise identify themselves. This is a 1:K matching problem."
   ]
  },
  {
   "cell_type": "markdown",
   "id": "a6dd4e52",
   "metadata": {},
   "source": [
    "# codeing part"
   ]
  },
  {
   "cell_type": "markdown",
   "id": "2a49873c",
   "metadata": {},
   "source": [
    "# 1 - Packages"
   ]
  },
  {
   "cell_type": "code",
   "execution_count": 1,
   "id": "5626a88a",
   "metadata": {},
   "outputs": [
    {
     "name": "stderr",
     "output_type": "stream",
     "text": [
      "2024-06-05 15:52:31.563654: E external/local_xla/xla/stream_executor/cuda/cuda_dnn.cc:9261] Unable to register cuDNN factory: Attempting to register factory for plugin cuDNN when one has already been registered\n",
      "2024-06-05 15:52:31.563797: E external/local_xla/xla/stream_executor/cuda/cuda_fft.cc:607] Unable to register cuFFT factory: Attempting to register factory for plugin cuFFT when one has already been registered\n",
      "2024-06-05 15:52:32.532866: E external/local_xla/xla/stream_executor/cuda/cuda_blas.cc:1515] Unable to register cuBLAS factory: Attempting to register factory for plugin cuBLAS when one has already been registered\n",
      "2024-06-05 15:52:33.705383: I tensorflow/core/platform/cpu_feature_guard.cc:182] This TensorFlow binary is optimized to use available CPU instructions in performance-critical operations.\n",
      "To enable the following instructions: AVX2 FMA, in other operations, rebuild TensorFlow with the appropriate compiler flags.\n",
      "2024-06-05 15:52:39.804808: W tensorflow/compiler/tf2tensorrt/utils/py_utils.cc:38] TF-TRT Warning: Could not find TensorRT\n"
     ]
    }
   ],
   "source": [
    "import tensorflow\n",
    "from tensorflow import keras \n",
    "from keras.preprocessing.image import ImageDataGenerator \n",
    "from keras.models import Sequential\n",
    "from keras.layers import Conv2D, MaxPool2D, Flatten, Dense\n",
    "import numpy as np\n",
    "from keras.preprocessing import image\n",
    "import os\n",
    "import glob"
   ]
  },
  {
   "cell_type": "markdown",
   "id": "f185707c",
   "metadata": {},
   "source": [
    "Here i am using tensorflow for bullid face recognition system. "
   ]
  },
  {
   "cell_type": "markdown",
   "id": "72dc66d2",
   "metadata": {},
   "source": [
    "# Image Preprocessing using keras"
   ]
  },
  {
   "cell_type": "code",
   "execution_count": 2,
   "id": "06606c0f",
   "metadata": {},
   "outputs": [],
   "source": [
    "# lets perform **Image Agumentation** to create different versions \n",
    "# load the train and test image from face images foldar \n",
    "trian_image=\"Face Images/Final Training Images\" \n",
    "test_images=\"Face Images/Final Testing Images\""
   ]
  },
  {
   "cell_type": "code",
   "execution_count": 3,
   "id": "e69e0155",
   "metadata": {},
   "outputs": [],
   "source": [
    "## ImageDataGenerator main use for rotate the image in dgree\n",
    "train_gen = ImageDataGenerator(\n",
    "    shear_range=0.1,\n",
    "    zoom_range=0.1,\n",
    "    horizontal_flip=True\n",
    ")"
   ]
  },
  {
   "cell_type": "code",
   "execution_count": 4,
   "id": "c84e32ad",
   "metadata": {},
   "outputs": [],
   "source": [
    "# No transformations are made on the test data\n",
    "test_gen = ImageDataGenerator()"
   ]
  },
  {
   "cell_type": "code",
   "execution_count": 5,
   "id": "bd72b91a",
   "metadata": {},
   "outputs": [
    {
     "name": "stdout",
     "output_type": "stream",
     "text": [
      "Found 244 images belonging to 16 classes.\n"
     ]
    }
   ],
   "source": [
    "# Generating training data \n",
    "training_data = train_gen.flow_from_directory(\n",
    "    trian_image, \n",
    "    target_size = (100,100),\n",
    "    batch_size = 30,\n",
    "    class_mode = 'categorical'\n",
    ")"
   ]
  },
  {
   "cell_type": "code",
   "execution_count": 6,
   "id": "be7097b6",
   "metadata": {},
   "outputs": [
    {
     "name": "stdout",
     "output_type": "stream",
     "text": [
      "Found 64 images belonging to 16 classes.\n"
     ]
    }
   ],
   "source": [
    "# Generating test data  \n",
    "testing_data = test_gen.flow_from_directory(\n",
    "    test_images, \n",
    "    target_size = (100,100),\n",
    "    batch_size = 30,\n",
    "    class_mode = 'categorical'\n",
    ")"
   ]
  },
  {
   "cell_type": "code",
   "execution_count": 7,
   "id": "14fd67c5",
   "metadata": {},
   "outputs": [],
   "source": [
    "## here are total 208 image and this image are belong from diffrent 16 class"
   ]
  },
  {
   "cell_type": "code",
   "execution_count": 9,
   "id": "2934745b",
   "metadata": {},
   "outputs": [
    {
     "data": {
      "text/plain": [
       "{'face1': 0,\n",
       " 'face10': 1,\n",
       " 'face11': 2,\n",
       " 'face12': 3,\n",
       " 'face13': 4,\n",
       " 'face14': 5,\n",
       " 'face15': 6,\n",
       " 'face16': 7,\n",
       " 'face2': 8,\n",
       " 'face3': 9,\n",
       " 'face4': 10,\n",
       " 'face5': 11,\n",
       " 'face6': 12,\n",
       " 'face7': 13,\n",
       " 'face8': 14,\n",
       " 'face9': 15}"
      ]
     },
     "execution_count": 9,
     "metadata": {},
     "output_type": "execute_result"
    }
   ],
   "source": [
    "training_data.class_indices"
   ]
  },
  {
   "cell_type": "markdown",
   "id": "7c2ea0ab",
   "metadata": {},
   "source": [
    "here are  observe, the above dictionary is having keys as face-names and values as numbers.we need to get the face-name out of it. we need to swap key as numeric and value is face name "
   ]
  },
  {
   "cell_type": "markdown",
   "id": "90929474",
   "metadata": {},
   "source": [
    "# swap key and value \n"
   ]
  },
  {
   "cell_type": "markdown",
   "id": "8ff4ab18",
   "metadata": {},
   "source": [
    "key is numeric number btween 0-15 for 16 class and value is face name "
   ]
  },
  {
   "cell_type": "code",
   "execution_count": 10,
   "id": "332109fc",
   "metadata": {},
   "outputs": [],
   "source": [
    "# training_data have numeric tag for each face\n",
    "Train_class = training_data.class_indices"
   ]
  },
  {
   "cell_type": "code",
   "execution_count": 11,
   "id": "6d8a8061",
   "metadata": {},
   "outputs": [],
   "source": [
    "# lets store them in a dictionary with swap for future reference\n",
    "Result_class = {}\n",
    "for value_tag, face_tag in zip(Train_class.values(),Train_class.keys()):\n",
    "    Result_class[value_tag] = face_tag"
   ]
  },
  {
   "cell_type": "code",
   "execution_count": 12,
   "id": "74139ca9",
   "metadata": {},
   "outputs": [
    {
     "name": "stdout",
     "output_type": "stream",
     "text": [
      "{0: 'face1', 1: 'face10', 2: 'face11', 3: 'face12', 4: 'face13', 5: 'face14', 6: 'face15', 7: 'face16', 8: 'face2', 9: 'face3', 10: 'face4', 11: 'face5', 12: 'face6', 13: 'face7', 14: 'face8', 15: 'face9'}\n"
     ]
    }
   ],
   "source": [
    "print(Result_class)"
   ]
  },
  {
   "cell_type": "markdown",
   "id": "cb733c78",
   "metadata": {},
   "source": [
    "# Building the  Model "
   ]
  },
  {
   "cell_type": "code",
   "execution_count": 13,
   "id": "03cd3a9e",
   "metadata": {},
   "outputs": [],
   "source": [
    "# Initializing the Convolutional Neural Network \n",
    "Model = Sequential()"
   ]
  },
  {
   "cell_type": "code",
   "execution_count": 15,
   "id": "82881634",
   "metadata": {},
   "outputs": [],
   "source": [
    "# step 1\n",
    "# we are using the format (100,100,3) because we are using TensorFlow backend\n",
    "# It means 3 matrix of size (100x100) pixels representing Red, Green and Blue components of pixels \n",
    "# activation function is relu\n",
    "Model.add(Conv2D(16, kernel_size=(5,5), strides=(1,1), input_shape = (100,100,3),activation='relu')) \n",
    "\n",
    "# Maxplooing layer (2,2) \n",
    "Model.add(MaxPool2D(pool_size=(2,2)))\n",
    "\n",
    "#here 32 chanel (3,3) kernal  \n",
    "# maxpooling (2,2)\n",
    "Model.add(Conv2D(32,kernel_size=(3,3),strides=(1,1),activation='relu'))\n",
    "Model.add(MaxPool2D(pool_size=(2,2))) \n",
    "\n",
    "Model.add(Conv2D(64,kernel_size=(2,2),strides=(1,1),activation='relu'))\n",
    "Model.add(MaxPool2D(pool_size=(2,2))) \n",
    "\n",
    "Model.add(Conv2D(128,kernel_size=(2,2),strides=(1,1),activation='relu'))\n",
    "Model.add(MaxPool2D(pool_size=(2,2)))\n",
    "\n",
    "# Add a flatten layer to convert the vector to one dimensional \n",
    "Model.add(Flatten()) \n",
    "\n",
    "#Add dense layers and Initialize weights using \n",
    "#kernal initializer for better learing of image features and classification \n",
    "\n",
    "Model.add(Dense(64,activation='relu'))\n",
    "Model.add(Dense(16,activation='softmax'))"
   ]
  },
  {
   "cell_type": "code",
   "execution_count": 17,
   "id": "7f6b76cf",
   "metadata": {},
   "outputs": [],
   "source": [
    "# compile the model here  using loss as categorical_crossentropy and adam optimizer \n",
    "Model.compile(loss='categorical_crossentropy',optimizer = 'adam',metrics = ['Accuracy'])\n"
   ]
  },
  {
   "cell_type": "code",
   "execution_count": 20,
   "id": "6acf7f6f",
   "metadata": {},
   "outputs": [
    {
     "name": "stdout",
     "output_type": "stream",
     "text": [
      "Epoch 1/30\n"
     ]
    },
    {
     "name": "stderr",
     "output_type": "stream",
     "text": [
      "/tmp/ipykernel_26937/897841317.py:2: UserWarning: `Model.fit_generator` is deprecated and will be removed in a future version. Please use `Model.fit`, which supports generators.\n",
      "  history=Model.fit_generator(training_data,\n"
     ]
    },
    {
     "name": "stdout",
     "output_type": "stream",
     "text": [
      "9/9 [==============================] - 3s 278ms/step - loss: 0.0787 - Accuracy: 0.9754 - val_loss: 0.1370 - val_Accuracy: 0.9531\n",
      "Epoch 2/30\n",
      "9/9 [==============================] - 3s 263ms/step - loss: 0.0293 - Accuracy: 0.9877 - val_loss: 0.1143 - val_Accuracy: 0.9688\n",
      "Epoch 3/30\n",
      "9/9 [==============================] - 3s 263ms/step - loss: 0.0224 - Accuracy: 1.0000 - val_loss: 0.1072 - val_Accuracy: 0.9844\n",
      "Epoch 4/30\n",
      "9/9 [==============================] - 3s 266ms/step - loss: 0.0164 - Accuracy: 0.9959 - val_loss: 0.1270 - val_Accuracy: 0.9531\n",
      "Epoch 5/30\n",
      "9/9 [==============================] - 3s 265ms/step - loss: 0.0124 - Accuracy: 1.0000 - val_loss: 0.0965 - val_Accuracy: 0.9688\n",
      "Epoch 6/30\n",
      "9/9 [==============================] - 3s 265ms/step - loss: 0.0061 - Accuracy: 1.0000 - val_loss: 0.0898 - val_Accuracy: 0.9844\n",
      "Epoch 7/30\n",
      "9/9 [==============================] - 3s 266ms/step - loss: 0.0050 - Accuracy: 1.0000 - val_loss: 0.0888 - val_Accuracy: 0.9844\n",
      "Epoch 8/30\n",
      "9/9 [==============================] - 3s 319ms/step - loss: 0.0089 - Accuracy: 1.0000 - val_loss: 0.0841 - val_Accuracy: 0.9688\n",
      "Epoch 9/30\n",
      "9/9 [==============================] - 3s 263ms/step - loss: 0.0102 - Accuracy: 0.9959 - val_loss: 0.0796 - val_Accuracy: 0.9688\n",
      "Epoch 10/30\n",
      "9/9 [==============================] - 3s 267ms/step - loss: 0.0291 - Accuracy: 0.9877 - val_loss: 0.0989 - val_Accuracy: 0.9688\n",
      "Epoch 11/30\n",
      "9/9 [==============================] - 2s 286ms/step - loss: 0.0147 - Accuracy: 0.9959 - val_loss: 0.1523 - val_Accuracy: 0.9531\n",
      "Epoch 12/30\n",
      "9/9 [==============================] - 3s 266ms/step - loss: 0.0098 - Accuracy: 1.0000 - val_loss: 0.0790 - val_Accuracy: 0.9844\n",
      "Epoch 13/30\n",
      "9/9 [==============================] - 3s 266ms/step - loss: 0.0148 - Accuracy: 0.9959 - val_loss: 0.0652 - val_Accuracy: 0.9844\n",
      "Epoch 14/30\n",
      "9/9 [==============================] - 3s 269ms/step - loss: 0.0110 - Accuracy: 0.9959 - val_loss: 0.1011 - val_Accuracy: 0.9531\n",
      "Epoch 15/30\n",
      "9/9 [==============================] - 3s 278ms/step - loss: 0.0081 - Accuracy: 0.9959 - val_loss: 0.0877 - val_Accuracy: 0.9844\n",
      "Epoch 16/30\n",
      "9/9 [==============================] - 3s 269ms/step - loss: 0.0061 - Accuracy: 1.0000 - val_loss: 0.0937 - val_Accuracy: 0.9844\n",
      "Epoch 17/30\n",
      "9/9 [==============================] - 3s 268ms/step - loss: 0.0065 - Accuracy: 1.0000 - val_loss: 0.0879 - val_Accuracy: 0.9844\n",
      "Epoch 18/30\n",
      "9/9 [==============================] - 3s 264ms/step - loss: 0.0039 - Accuracy: 1.0000 - val_loss: 0.0779 - val_Accuracy: 0.9844\n",
      "Epoch 19/30\n",
      "9/9 [==============================] - 3s 311ms/step - loss: 0.0041 - Accuracy: 1.0000 - val_loss: 0.0719 - val_Accuracy: 0.9844\n",
      "Epoch 20/30\n",
      "9/9 [==============================] - 3s 263ms/step - loss: 0.0011 - Accuracy: 1.0000 - val_loss: 0.0684 - val_Accuracy: 0.9844\n",
      "Epoch 21/30\n",
      "9/9 [==============================] - 3s 263ms/step - loss: 0.0031 - Accuracy: 1.0000 - val_loss: 0.0709 - val_Accuracy: 0.9844\n",
      "Epoch 22/30\n",
      "9/9 [==============================] - 3s 267ms/step - loss: 0.0022 - Accuracy: 1.0000 - val_loss: 0.0809 - val_Accuracy: 0.9844\n",
      "Epoch 23/30\n",
      "9/9 [==============================] - 3s 267ms/step - loss: 0.0030 - Accuracy: 1.0000 - val_loss: 0.0769 - val_Accuracy: 0.9844\n",
      "Epoch 24/30\n",
      "9/9 [==============================] - 3s 265ms/step - loss: 0.0026 - Accuracy: 1.0000 - val_loss: 0.0672 - val_Accuracy: 0.9844\n",
      "Epoch 25/30\n",
      "9/9 [==============================] - 3s 266ms/step - loss: 0.0086 - Accuracy: 0.9959 - val_loss: 0.0622 - val_Accuracy: 0.9844\n",
      "Epoch 26/30\n",
      "9/9 [==============================] - 3s 265ms/step - loss: 0.0020 - Accuracy: 1.0000 - val_loss: 0.0556 - val_Accuracy: 0.9844\n",
      "Epoch 27/30\n",
      "9/9 [==============================] - 3s 273ms/step - loss: 0.0011 - Accuracy: 1.0000 - val_loss: 0.0534 - val_Accuracy: 0.9844\n",
      "Epoch 28/30\n",
      "9/9 [==============================] - 3s 282ms/step - loss: 0.0019 - Accuracy: 1.0000 - val_loss: 0.0523 - val_Accuracy: 0.9844\n",
      "Epoch 29/30\n",
      "9/9 [==============================] - 3s 267ms/step - loss: 6.0314e-04 - Accuracy: 1.0000 - val_loss: 0.0526 - val_Accuracy: 0.9844\n",
      "Epoch 30/30\n",
      "9/9 [==============================] - 3s 265ms/step - loss: 0.0014 - Accuracy: 1.0000 - val_loss: 0.0569 - val_Accuracy: 0.9844\n"
     ]
    }
   ],
   "source": [
    "# Model Training \n",
    "history=Model.fit_generator(training_data,\n",
    "          epochs = 30,\n",
    "          validation_data=testing_data,\n",
    "                   )"
   ]
  },
  {
   "cell_type": "code",
   "execution_count": 24,
   "id": "5a7aa45b",
   "metadata": {},
   "outputs": [
    {
     "data": {
      "image/png": "[encoded data removed]",
      "text/plain": [
       "<Figure size 1200x400 with 2 Axes>"
      ]
     },
     "metadata": {},
     "output_type": "display_data"
    }
   ],
   "source": [
    "import matplotlib.pyplot as plt\n",
    "plt.figure(figsize=(12, 4))\n",
    "plt.subplot(1, 2, 1)\n",
    "plt.plot(history.history['Accuracy'], label='Training Accuracy')\n",
    "plt.plot(history.history['val_Accuracy'], label='Validation Accuracy')\n",
    "plt.title('Training and Validation Accuracy')\n",
    "plt.legend()\n",
    "\n",
    "plt.subplot(1, 2, 2)\n",
    "plt.plot(history.history['loss'], label='Training Loss')\n",
    "plt.plot(history.history['val_loss'], label='Validation Loss')\n",
    "plt.title('Training and Validation Loss')\n",
    "plt.legend()\n",
    "\n",
    "plt.show()"
   ]
  },
  {
   "cell_type": "code",
   "execution_count": 25,
   "id": "d6a8be3f",
   "metadata": {},
   "outputs": [
    {
     "name": "stdout",
     "output_type": "stream",
     "text": [
      "Prediction is:  face5\n"
     ]
    }
   ],
   "source": [
    "#Using the Classifier to make predictions on unseen test images \n",
    "ImagePath=\"Face Images/Final Testing Images/face5/4face5.jpg\"\n",
    "test_image=image.load_img(ImagePath,target_size=(100, 100))\n",
    "test_image=image.img_to_array(test_image)\n",
    " \n",
    "test_image=np.expand_dims(test_image,axis=0)\n",
    " \n",
    "result=Model.predict(test_image,verbose=0) \n",
    "print('Prediction is: ',Result_class[np.argmax(result)])"
   ]
  },
  {
   "cell_type": "code",
   "execution_count": 26,
   "id": "674d0530",
   "metadata": {},
   "outputs": [],
   "source": [
    "main_ = \"Face Images/Final Testing Images\"\n",
    "img_paths = glob.glob(os.path.join(main_,'**','*.jpg'))"
   ]
  },
  {
   "cell_type": "code",
   "execution_count": 27,
   "id": "923a6d3a",
   "metadata": {},
   "outputs": [
    {
     "data": {
      "text/plain": [
       "['Face Images/Final Testing Images/face4/3face4.jpg',\n",
       " 'Face Images/Final Testing Images/face4/1face4.jpg',\n",
       " 'Face Images/Final Testing Images/face4/4face4.jpg',\n",
       " 'Face Images/Final Testing Images/face4/2face4.jpg',\n",
       " 'Face Images/Final Testing Images/face14/1face14.jpg',\n",
       " 'Face Images/Final Testing Images/face14/4face14.jpg',\n",
       " 'Face Images/Final Testing Images/face14/2face14.jpg',\n",
       " 'Face Images/Final Testing Images/face14/3face14.jpg',\n",
       " 'Face Images/Final Testing Images/face10/3face10.jpg',\n",
       " 'Face Images/Final Testing Images/face10/4face10.jpg',\n",
       " 'Face Images/Final Testing Images/face10/2face10.jpg',\n",
       " 'Face Images/Final Testing Images/face10/1face10.jpg',\n",
       " 'Face Images/Final Testing Images/face6/2face6.jpg',\n",
       " 'Face Images/Final Testing Images/face6/4face6.jpg',\n",
       " 'Face Images/Final Testing Images/face6/1face6.jpg',\n",
       " 'Face Images/Final Testing Images/face6/3face6.jpg',\n",
       " 'Face Images/Final Testing Images/face13/2face13.jpg',\n",
       " 'Face Images/Final Testing Images/face13/3face13.jpg',\n",
       " 'Face Images/Final Testing Images/face13/1face13.jpg',\n",
       " 'Face Images/Final Testing Images/face13/4face13.jpg',\n",
       " 'Face Images/Final Testing Images/face12/4face12.jpg',\n",
       " 'Face Images/Final Testing Images/face12/2face12.jpg',\n",
       " 'Face Images/Final Testing Images/face12/3face12.jpg',\n",
       " 'Face Images/Final Testing Images/face12/1face12.jpg',\n",
       " 'Face Images/Final Testing Images/face3/1face3.jpg',\n",
       " 'Face Images/Final Testing Images/face3/2face3.jpg',\n",
       " 'Face Images/Final Testing Images/face3/3face3.jpg',\n",
       " 'Face Images/Final Testing Images/face3/4face3.jpg',\n",
       " 'Face Images/Final Testing Images/face2/4face2.jpg',\n",
       " 'Face Images/Final Testing Images/face2/1face2.jpg',\n",
       " 'Face Images/Final Testing Images/face2/2face2.jpg',\n",
       " 'Face Images/Final Testing Images/face2/3face2.jpg',\n",
       " 'Face Images/Final Testing Images/face15/1face15.jpg',\n",
       " 'Face Images/Final Testing Images/face15/2face15.jpg',\n",
       " 'Face Images/Final Testing Images/face15/4face15.jpg',\n",
       " 'Face Images/Final Testing Images/face15/3face15.jpg',\n",
       " 'Face Images/Final Testing Images/face9/1face9.jpg',\n",
       " 'Face Images/Final Testing Images/face9/2face9.jpg',\n",
       " 'Face Images/Final Testing Images/face9/3face9.jpg',\n",
       " 'Face Images/Final Testing Images/face9/4face9.jpg',\n",
       " 'Face Images/Final Testing Images/face7/3face7.jpg',\n",
       " 'Face Images/Final Testing Images/face7/1face7.jpg',\n",
       " 'Face Images/Final Testing Images/face7/2face7.jpg',\n",
       " 'Face Images/Final Testing Images/face7/4face7.jpg',\n",
       " 'Face Images/Final Testing Images/face1/2face1.jpg',\n",
       " 'Face Images/Final Testing Images/face1/4face1.jpg',\n",
       " 'Face Images/Final Testing Images/face1/1face1.jpg',\n",
       " 'Face Images/Final Testing Images/face1/3face1.jpg',\n",
       " 'Face Images/Final Testing Images/face16/1face16.jpg',\n",
       " 'Face Images/Final Testing Images/face16/3face16.jpg',\n",
       " 'Face Images/Final Testing Images/face16/4face16.jpg',\n",
       " 'Face Images/Final Testing Images/face16/2face16.jpg',\n",
       " 'Face Images/Final Testing Images/face8/1face8.jpg',\n",
       " 'Face Images/Final Testing Images/face8/2face8.jpg',\n",
       " 'Face Images/Final Testing Images/face8/3face8.jpg',\n",
       " 'Face Images/Final Testing Images/face8/4face8.jpg',\n",
       " 'Face Images/Final Testing Images/face11/1face11.jpg',\n",
       " 'Face Images/Final Testing Images/face11/2face11.jpg',\n",
       " 'Face Images/Final Testing Images/face11/3face11.jpg',\n",
       " 'Face Images/Final Testing Images/face11/4face11.jpg',\n",
       " 'Face Images/Final Testing Images/face5/1face5.jpg',\n",
       " 'Face Images/Final Testing Images/face5/4face5.jpg',\n",
       " 'Face Images/Final Testing Images/face5/3face5.jpg',\n",
       " 'Face Images/Final Testing Images/face5/2face5.jpg']"
      ]
     },
     "execution_count": 27,
     "metadata": {},
     "output_type": "execute_result"
    }
   ],
   "source": [
    "img_paths"
   ]
  },
  {
   "cell_type": "code",
   "execution_count": 28,
   "id": "78b979a4",
   "metadata": {},
   "outputs": [
    {
     "name": "stdout",
     "output_type": "stream",
     "text": [
      "Prediction:  face4\n",
      "Prediction:  face4\n",
      "Prediction:  face4\n",
      "Prediction:  face4\n",
      "Prediction:  face14\n",
      "Prediction:  face14\n",
      "Prediction:  face14\n",
      "Prediction:  face14\n",
      "Prediction:  face10\n",
      "Prediction:  face10\n",
      "Prediction:  face10\n",
      "Prediction:  face10\n",
      "Prediction:  face6\n",
      "Prediction:  face6\n",
      "Prediction:  face6\n",
      "Prediction:  face6\n",
      "Prediction:  face13\n",
      "Prediction:  face13\n",
      "Prediction:  face13\n",
      "Prediction:  face13\n",
      "Prediction:  face12\n",
      "Prediction:  face12\n",
      "Prediction:  face12\n",
      "Prediction:  face12\n",
      "Prediction:  face3\n",
      "Prediction:  face3\n",
      "Prediction:  face3\n",
      "Prediction:  face3\n",
      "Prediction:  face2\n",
      "Prediction:  face2\n",
      "Prediction:  face2\n",
      "Prediction:  face2\n",
      "Prediction:  face15\n",
      "Prediction:  face15\n",
      "Prediction:  face15\n",
      "Prediction:  face15\n",
      "Prediction:  face9\n",
      "Prediction:  face9\n",
      "Prediction:  face9\n",
      "Prediction:  face9\n",
      "Prediction:  face7\n",
      "Prediction:  face7\n",
      "Prediction:  face7\n",
      "Prediction:  face7\n",
      "Prediction:  face1\n",
      "Prediction:  face14\n",
      "Prediction:  face1\n",
      "Prediction:  face1\n",
      "Prediction:  face16\n",
      "Prediction:  face16\n",
      "Prediction:  face16\n",
      "Prediction:  face16\n",
      "Prediction:  face8\n",
      "Prediction:  face8\n",
      "Prediction:  face8\n",
      "Prediction:  face8\n",
      "Prediction:  face11\n",
      "Prediction:  face11\n",
      "Prediction:  face11\n",
      "Prediction:  face11\n",
      "Prediction:  face5\n",
      "Prediction:  face5\n",
      "Prediction:  face5\n",
      "Prediction:  face5\n"
     ]
    }
   ],
   "source": [
    "for path in img_paths:\n",
    "    test_image = image.load_img(path,target_size=(100,100))\n",
    "    test_image = image.img_to_array(test_image)\n",
    "    test_image = np.expand_dims(test_image,axis =0)\n",
    "    result = Model.predict(test_image,verbose=0)\n",
    "    print('Prediction: ',Result_class[np.argmax(result)])"
   ]
  },
  {
   "cell_type": "markdown",
   "id": "c7d69031",
   "metadata": {},
   "source": [
    "# use early stoping"
   ]
  },
  {
   "cell_type": "code",
   "execution_count": 29,
   "id": "1e3a034a",
   "metadata": {},
   "outputs": [],
   "source": [
    "from keras.callbacks import EarlyStopping\n",
    "call = EarlyStopping(\n",
    "                    min_delta=0.005,\n",
    "                    patience=5,\n",
    "                     verbose=1\n",
    "                    )"
   ]
  },
  {
   "cell_type": "code",
   "execution_count": 32,
   "id": "44864abd",
   "metadata": {},
   "outputs": [],
   "source": [
    "from tensorflow.keras.optimizers import Adam\n",
    "Model.compile(loss='categorical_crossentropy',optimizer = Adam(learning_rate=0.001),metrics = ['Accuracy'])"
   ]
  },
  {
   "cell_type": "code",
   "execution_count": 33,
   "id": "1fc9c463",
   "metadata": {},
   "outputs": [
    {
     "name": "stderr",
     "output_type": "stream",
     "text": [
      "/tmp/ipykernel_26937/2872354329.py:1: UserWarning: `Model.fit_generator` is deprecated and will be removed in a future version. Please use `Model.fit`, which supports generators.\n",
      "  history=Model.fit_generator(training_data,\n"
     ]
    },
    {
     "name": "stdout",
     "output_type": "stream",
     "text": [
      "Epoch 1/30\n",
      "9/9 [==============================] - 4s 299ms/step - loss: 0.3513 - Accuracy: 0.8975 - val_loss: 0.1581 - val_Accuracy: 0.9531\n",
      "Epoch 2/30\n",
      "9/9 [==============================] - 3s 286ms/step - loss: 0.1553 - Accuracy: 0.9385 - val_loss: 0.3050 - val_Accuracy: 0.8906\n",
      "Epoch 3/30\n",
      "9/9 [==============================] - 3s 273ms/step - loss: 0.0704 - Accuracy: 0.9877 - val_loss: 0.1161 - val_Accuracy: 0.9688\n",
      "Epoch 4/30\n",
      "9/9 [==============================] - 3s 269ms/step - loss: 0.1763 - Accuracy: 0.9467 - val_loss: 0.1187 - val_Accuracy: 0.9219\n",
      "Epoch 5/30\n",
      "9/9 [==============================] - 2s 258ms/step - loss: 0.0664 - Accuracy: 0.9836 - val_loss: 0.4637 - val_Accuracy: 0.9062\n",
      "Epoch 6/30\n",
      "9/9 [==============================] - 2s 253ms/step - loss: 0.5917 - Accuracy: 0.8443 - val_loss: 0.2286 - val_Accuracy: 0.9062\n",
      "Epoch 7/30\n",
      "9/9 [==============================] - 3s 267ms/step - loss: 0.1486 - Accuracy: 0.9426 - val_loss: 0.3665 - val_Accuracy: 0.9219\n",
      "Epoch 8/30\n",
      "9/9 [==============================] - 3s 266ms/step - loss: 0.0610 - Accuracy: 0.9754 - val_loss: 0.1847 - val_Accuracy: 0.9531\n",
      "Epoch 9/30\n",
      "9/9 [==============================] - 3s 270ms/step - loss: 0.1129 - Accuracy: 0.9836 - val_loss: 0.1492 - val_Accuracy: 0.9531\n",
      "Epoch 10/30\n",
      "9/9 [==============================] - 3s 270ms/step - loss: 0.0492 - Accuracy: 0.9918 - val_loss: 0.1004 - val_Accuracy: 0.9688\n",
      "Epoch 11/30\n",
      "9/9 [==============================] - 3s 310ms/step - loss: 0.0209 - Accuracy: 0.9959 - val_loss: 0.1537 - val_Accuracy: 0.9375\n",
      "Epoch 12/30\n",
      "9/9 [==============================] - 3s 268ms/step - loss: 0.0059 - Accuracy: 1.0000 - val_loss: 0.0879 - val_Accuracy: 0.9688\n",
      "Epoch 13/30\n",
      "9/9 [==============================] - 3s 312ms/step - loss: 0.0151 - Accuracy: 0.9959 - val_loss: 0.0770 - val_Accuracy: 0.9531\n",
      "Epoch 14/30\n",
      "9/9 [==============================] - 2s 234ms/step - loss: 0.0524 - Accuracy: 0.9959 - val_loss: 0.2416 - val_Accuracy: 0.9375\n",
      "Epoch 15/30\n",
      "9/9 [==============================] - 2s 266ms/step - loss: 0.0381 - Accuracy: 0.9918 - val_loss: 0.1399 - val_Accuracy: 0.9688\n",
      "Epoch 16/30\n",
      "9/9 [==============================] - 3s 273ms/step - loss: 0.0121 - Accuracy: 1.0000 - val_loss: 0.1230 - val_Accuracy: 0.9375\n",
      "Epoch 17/30\n",
      "9/9 [==============================] - 3s 283ms/step - loss: 0.0233 - Accuracy: 0.9959 - val_loss: 0.0668 - val_Accuracy: 0.9688\n",
      "Epoch 18/30\n",
      "9/9 [==============================] - 3s 262ms/step - loss: 0.0081 - Accuracy: 0.9959 - val_loss: 0.0614 - val_Accuracy: 0.9688\n",
      "Epoch 19/30\n",
      "9/9 [==============================] - 3s 268ms/step - loss: 0.0021 - Accuracy: 1.0000 - val_loss: 0.1236 - val_Accuracy: 0.9531\n",
      "Epoch 20/30\n",
      "9/9 [==============================] - 3s 272ms/step - loss: 0.0099 - Accuracy: 0.9959 - val_loss: 0.0666 - val_Accuracy: 0.9688\n",
      "Epoch 21/30\n",
      "9/9 [==============================] - 3s 268ms/step - loss: 0.0083 - Accuracy: 0.9959 - val_loss: 0.0415 - val_Accuracy: 0.9688\n",
      "Epoch 22/30\n",
      "9/9 [==============================] - 3s 314ms/step - loss: 0.0052 - Accuracy: 1.0000 - val_loss: 0.0315 - val_Accuracy: 0.9844\n",
      "Epoch 23/30\n",
      "9/9 [==============================] - 3s 310ms/step - loss: 0.0040 - Accuracy: 1.0000 - val_loss: 0.0946 - val_Accuracy: 0.9688\n",
      "Epoch 24/30\n",
      "9/9 [==============================] - 3s 272ms/step - loss: 0.0047 - Accuracy: 1.0000 - val_loss: 0.0575 - val_Accuracy: 0.9688\n",
      "Epoch 25/30\n",
      "9/9 [==============================] - 3s 309ms/step - loss: 0.0033 - Accuracy: 1.0000 - val_loss: 0.0199 - val_Accuracy: 1.0000\n",
      "Epoch 26/30\n",
      "9/9 [==============================] - 3s 267ms/step - loss: 0.0015 - Accuracy: 1.0000 - val_loss: 0.0187 - val_Accuracy: 0.9844\n",
      "Epoch 27/30\n",
      "9/9 [==============================] - 2s 256ms/step - loss: 0.0021 - Accuracy: 1.0000 - val_loss: 0.0227 - val_Accuracy: 0.9844\n",
      "Epoch 28/30\n",
      "9/9 [==============================] - 3s 285ms/step - loss: 0.0016 - Accuracy: 1.0000 - val_loss: 0.0260 - val_Accuracy: 0.9844\n",
      "Epoch 29/30\n",
      "9/9 [==============================] - 3s 313ms/step - loss: 0.0042 - Accuracy: 1.0000 - val_loss: 0.0426 - val_Accuracy: 0.9688\n",
      "Epoch 30/30\n",
      "9/9 [==============================] - 3s 274ms/step - loss: 4.3121e-04 - Accuracy: 1.0000 - val_loss: 0.0594 - val_Accuracy: 0.9531\n"
     ]
    }
   ],
   "source": [
    "history=Model.fit_generator(training_data,\n",
    "          epochs = 30,\n",
    "          validation_data=testing_data,\n",
    "                   )"
   ]
  },
  {
   "cell_type": "code",
   "execution_count": 34,
   "id": "4db772de",
   "metadata": {},
   "outputs": [
    {
     "data": {
      "image/png": "[encoded data removed]",
      "text/plain": [
       "<Figure size 1200x400 with 2 Axes>"
      ]
     },
     "metadata": {},
     "output_type": "display_data"
    }
   ],
   "source": [
    "plt.figure(figsize=(12, 4))\n",
    "plt.subplot(1, 2, 1)\n",
    "plt.plot(history.history['Accuracy'], label='Training Accuracy')\n",
    "plt.plot(history.history['val_Accuracy'], label='Validation Accuracy')\n",
    "plt.title('Training and Validation Accuracy')\n",
    "plt.legend()\n",
    "\n",
    "plt.subplot(1, 2, 2)\n",
    "plt.plot(history.history['loss'], label='Training Loss')\n",
    "plt.plot(history.history['val_loss'], label='Validation Loss')\n",
    "plt.title('Training and Validation Loss')\n",
    "plt.legend()\n",
    "\n",
    "plt.show()"
   ]
  },
  {
   "cell_type": "markdown",
   "id": "374c6928",
   "metadata": {},
   "source": [
    "# train the model using transfarlearning"
   ]
  },
  {
   "cell_type": "markdown",
   "id": "646a4beb",
   "metadata": {},
   "source": [
    "i am using ResNet50 Model \n"
   ]
  },
  {
   "cell_type": "code",
   "execution_count": 48,
   "id": "6dd235a2",
   "metadata": {},
   "outputs": [],
   "source": [
    "import tensorflow as tf \n",
    "from tensorflow.keras.applications import ResNet50\n",
    "from tensorflow.keras.layers import Dense, GlobalAveragePooling2D \n",
    "from tensorflow.keras.models import Model"
   ]
  },
  {
   "cell_type": "code",
   "execution_count": 36,
   "id": "7e9a33ca",
   "metadata": {},
   "outputs": [],
   "source": [
    "## I have already train and test data  \n",
    "## tain_img \n",
    "## test_img "
   ]
  },
  {
   "cell_type": "markdown",
   "id": "ce585454",
   "metadata": {},
   "source": [
    "# Data Preprocessing and Augmentation"
   ]
  },
  {
   "cell_type": "code",
   "execution_count": 49,
   "id": "de073a79",
   "metadata": {},
   "outputs": [
    {
     "name": "stdout",
     "output_type": "stream",
     "text": [
      "Found 244 images belonging to 16 classes.\n"
     ]
    }
   ],
   "source": [
    "train_datagen = ImageDataGenerator(\n",
    "    rescale=1./255,\n",
    "    rotation_range=20,\n",
    "    width_shift_range=0.2,\n",
    "    height_shift_range=0.2,\n",
    "    shear_range=0.2,\n",
    "    zoom_range=0.2,\n",
    "    horizontal_flip=True,\n",
    "    fill_mode='nearest'\n",
    ")\n",
    "\n",
    "train_generator = train_datagen.flow_from_directory(\n",
    "    trian_image,\n",
    "    target_size=(224, 224),\n",
    "    batch_size=20,\n",
    "    class_mode='categorical'\n",
    ")"
   ]
  },
  {
   "cell_type": "code",
   "execution_count": 50,
   "id": "9a345b87",
   "metadata": {},
   "outputs": [
    {
     "name": "stdout",
     "output_type": "stream",
     "text": [
      "Found 64 images belonging to 16 classes.\n"
     ]
    }
   ],
   "source": [
    "test_generator = train_datagen.flow_from_directory(\n",
    "    test_images,\n",
    "    target_size=(224, 224),\n",
    "    batch_size=20,\n",
    "    class_mode='categorical'\n",
    ")"
   ]
  },
  {
   "cell_type": "code",
   "execution_count": 51,
   "id": "a5a60f24",
   "metadata": {},
   "outputs": [],
   "source": [
    "# Load Pretrained ResNet50 Model \n",
    "res_model = ResNet50(weights='imagenet', include_top=False, input_shape=(224, 224, 3))"
   ]
  },
  {
   "cell_type": "code",
   "execution_count": 52,
   "id": "52682ca8",
   "metadata": {},
   "outputs": [],
   "source": [
    "# tarin the model \n",
    "\n",
    "x = res_model.output\n",
    "x = GlobalAveragePooling2D()(x)\n",
    "x = Dense(1024, activation='relu')(x)\n",
    "predictions = Dense(train_generator.num_classes, activation='softmax')(x)"
   ]
  },
  {
   "cell_type": "code",
   "execution_count": 53,
   "id": "966114e2",
   "metadata": {},
   "outputs": [],
   "source": [
    "model = Model(inputs=res_model.input, outputs=predictions)"
   ]
  },
  {
   "cell_type": "code",
   "execution_count": 54,
   "id": "4565a274",
   "metadata": {},
   "outputs": [],
   "source": [
    "# Freeze Base res model Layers\n",
    "for layer in res_model.layers:\n",
    "    layer.trainable = False"
   ]
  },
  {
   "cell_type": "code",
   "execution_count": 56,
   "id": "68d02864",
   "metadata": {},
   "outputs": [
    {
     "name": "stdout",
     "output_type": "stream",
     "text": [
      "Epoch 1/20\n",
      "13/13 [==============================] - 110s 4s/step - loss: 7.5633 - accuracy: 0.0492\n",
      "Epoch 2/20\n",
      "13/13 [==============================] - 43s 3s/step - loss: 2.7837 - accuracy: 0.0492\n",
      "Epoch 3/20\n",
      "13/13 [==============================] - 42s 3s/step - loss: 2.7804 - accuracy: 0.0574\n",
      "Epoch 4/20\n",
      "13/13 [==============================] - 46s 3s/step - loss: 2.7714 - accuracy: 0.0820\n",
      "Epoch 5/20\n",
      "13/13 [==============================] - 43s 3s/step - loss: 2.7711 - accuracy: 0.0820\n",
      "Epoch 6/20\n",
      "13/13 [==============================] - 44s 3s/step - loss: 2.7784 - accuracy: 0.0738\n",
      "Epoch 7/20\n",
      "13/13 [==============================] - 42s 3s/step - loss: 2.7791 - accuracy: 0.0615\n",
      "Epoch 8/20\n",
      "13/13 [==============================] - 42s 3s/step - loss: 2.7689 - accuracy: 0.0820\n",
      "Epoch 9/20\n",
      "13/13 [==============================] - 44s 3s/step - loss: 2.7680 - accuracy: 0.0820\n",
      "Epoch 10/20\n",
      "13/13 [==============================] - 43s 3s/step - loss: 2.7661 - accuracy: 0.0820\n",
      "Epoch 11/20\n",
      "13/13 [==============================] - 44s 3s/step - loss: 2.7900 - accuracy: 0.0697\n",
      "Epoch 12/20\n",
      "13/13 [==============================] - 43s 3s/step - loss: 2.7667 - accuracy: 0.0820\n",
      "Epoch 13/20\n",
      "13/13 [==============================] - 44s 3s/step - loss: 2.7670 - accuracy: 0.0820\n",
      "Epoch 14/20\n",
      "13/13 [==============================] - 42s 3s/step - loss: 2.7676 - accuracy: 0.0820\n",
      "Epoch 15/20\n",
      "13/13 [==============================] - 42s 3s/step - loss: 2.7674 - accuracy: 0.0820\n",
      "Epoch 16/20\n",
      "13/13 [==============================] - 43s 3s/step - loss: 2.7672 - accuracy: 0.0820\n",
      "Epoch 17/20\n",
      "13/13 [==============================] - 42s 3s/step - loss: 2.7671 - accuracy: 0.0820\n",
      "Epoch 18/20\n",
      "13/13 [==============================] - 45s 3s/step - loss: 2.7669 - accuracy: 0.0820\n",
      "Epoch 19/20\n",
      "13/13 [==============================] - 43s 3s/step - loss: 2.7672 - accuracy: 0.0820\n",
      "Epoch 20/20\n",
      "13/13 [==============================] - 42s 3s/step - loss: 2.7675 - accuracy: 0.0820\n"
     ]
    }
   ],
   "source": [
    "# Compile the Model with 20 epoch\n",
    "history = model.fit(train_generator, epochs=20, verbose=1)\n"
   ]
  },
  {
   "cell_type": "code",
   "execution_count": null,
   "id": "2f36a304",
   "metadata": {},
   "outputs": [],
   "source": []
  }
 ],
 "metadata": {
  "kernelspec": {
   "display_name": "Python 3 (ipykernel)",
   "language": "python",
   "name": "python3"
  },
  "language_info": {
   "codemirror_mode": {
    "name": "ipython",
    "version": 3
   },
   "file_extension": ".py",
   "mimetype": "text/x-python",
   "name": "python",
   "nbconvert_exporter": "python",
   "pygments_lexer": "ipython3",
   "version": "3.11.7"
  }
 },
 "nbformat": 4,
 "nbformat_minor": 5
}
